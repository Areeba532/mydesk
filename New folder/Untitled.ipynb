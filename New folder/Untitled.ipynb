{
 "cells": [
  {
   "cell_type": "code",
   "execution_count": 18,
   "id": "5f1ee32c",
   "metadata": {},
   "outputs": [],
   "source": [
    "mylst = [1,2,3]\n",
    "total= 6\n",
    "if mylst[0] + mylst[1] == total:\n",
    "    print(\"I'm great\")"
   ]
  },
  {
   "cell_type": "code",
   "execution_count": 1,
   "id": "5638bf9d",
   "metadata": {},
   "outputs": [
    {
     "ename": "TypeError",
     "evalue": "'int' object is not iterable",
     "output_type": "error",
     "traceback": [
      "\u001b[1;31m---------------------------------------------------------------------------\u001b[0m",
      "\u001b[1;31mTypeError\u001b[0m                                 Traceback (most recent call last)",
      "Cell \u001b[1;32mIn[1], line 4\u001b[0m\n\u001b[0;32m      2\u001b[0m target \u001b[39m=\u001b[39m \u001b[39m10\u001b[39m\n\u001b[0;32m      3\u001b[0m \u001b[39mfor\u001b[39;00m a \u001b[39min\u001b[39;00m no:\n\u001b[1;32m----> 4\u001b[0m     \u001b[39mfor\u001b[39;00m b \u001b[39min\u001b[39;00m no[no\u001b[39m.\u001b[39mindex(a)]:\n\u001b[0;32m      5\u001b[0m        \u001b[39mif\u001b[39;00m a \u001b[39m+\u001b[39m b \u001b[39m==\u001b[39m target:\n\u001b[0;32m      6\u001b[0m            \u001b[39mprint\u001b[39m(no\u001b[39m.\u001b[39mindex(a),no\u001b[39m.\u001b[39mindex(b))\n",
      "\u001b[1;31mTypeError\u001b[0m: 'int' object is not iterable"
     ]
    }
   ],
   "source": [
    "no = [2,8,8, 8, 4, 7, 9, 5, 1]\n",
    "target = 10\n",
    "for a in no:\n",
    "    for b in no[no.index(a)]:\n",
    "       if a + b == target:\n",
    "           print(no.index(a),no.index(b))\n",
    "\n"
   ]
  },
  {
   "cell_type": "code",
   "execution_count": null,
   "id": "8c760358",
   "metadata": {},
   "outputs": [],
   "source": [
    "import cv2\n",
    "\n",
    "img=cv2.imread()\n",
    "\n",
    "img =[]\n",
    "lab= []\n",
    "for i,path in enumerate(path):\n"
   ]
  },
  {
   "cell_type": "code",
   "execution_count": null,
   "id": "b521b735",
   "metadata": {},
   "outputs": [],
   "source": []
  }
 ],
 "metadata": {
  "kernelspec": {
   "display_name": "Python 3 (ipykernel)",
   "language": "python",
   "name": "python3"
  },
  "language_info": {
   "codemirror_mode": {
    "name": "ipython",
    "version": 3
   },
   "file_extension": ".py",
   "mimetype": "text/x-python",
   "name": "python",
   "nbconvert_exporter": "python",
   "pygments_lexer": "ipython3",
   "version": "3.11.4"
  }
 },
 "nbformat": 4,
 "nbformat_minor": 5
}
