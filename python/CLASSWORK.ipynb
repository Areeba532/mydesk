{
 "cells": [
  {
   "cell_type": "code",
   "execution_count": 5,
   "id": "7bf733e5",
   "metadata": {},
   "outputs": [
    {
     "name": "stdout",
     "output_type": "stream",
     "text": [
      "2\n",
      "4\n",
      "6\n",
      "8\n",
      "10\n"
     ]
    }
   ],
   "source": [
    "ab=range(1,11)\n",
    "for n in ab:\n",
    "    if n%2==0:\n",
    "        print(n)"
   ]
  },
  {
   "cell_type": "code",
   "execution_count": 11,
   "id": "609bcc1a",
   "metadata": {},
   "outputs": [
    {
     "name": "stdout",
     "output_type": "stream",
     "text": [
      "ab =  [4, 16, 36, 64, 100]\n"
     ]
    }
   ],
   "source": [
    "var = [num*num for num in range(1,11) if num%2==0]\n",
    "print(\"ab = \",var)"
   ]
  },
  {
   "cell_type": "code",
   "execution_count": 17,
   "id": "d5a58024",
   "metadata": {},
   "outputs": [
    {
     "name": "stdout",
     "output_type": "stream",
     "text": [
      "2\n"
     ]
    },
    {
     "ename": "TypeError",
     "evalue": "name.dog() missing 1 required positional argument: 'breed'",
     "output_type": "error",
     "traceback": [
      "\u001b[1;31m---------------------------------------------------------------------------\u001b[0m",
      "\u001b[1;31mTypeError\u001b[0m                                 Traceback (most recent call last)",
      "Cell \u001b[1;32mIn[17], line 8\u001b[0m\n\u001b[0;32m      6\u001b[0m         \u001b[38;5;28mprint\u001b[39m(breed)\n\u001b[0;32m      7\u001b[0m ab \u001b[38;5;241m=\u001b[39m name(ai\u001b[38;5;241m=\u001b[39m\u001b[38;5;241m2\u001b[39m)\n\u001b[1;32m----> 8\u001b[0m \u001b[43mab\u001b[49m\u001b[38;5;241;43m.\u001b[39;49m\u001b[43mdog\u001b[49m\u001b[43m(\u001b[49m\u001b[43m)\u001b[49m\n",
      "\u001b[1;31mTypeError\u001b[0m: name.dog() missing 1 required positional argument: 'breed'"
     ]
    }
   ],
   "source": [
    "class name():\n",
    "    def __init__(self,ai):\n",
    "        print(ai)\n",
    "        self.az=ai**2\n",
    "    def dog(self,breed):\n",
    "        print(breed)\n",
    "ab = name(ai=2)\n",
    "ab.dog()"
   ]
  },
  {
   "cell_type": "code",
   "execution_count": null,
   "id": "9ee10740",
   "metadata": {},
   "outputs": [],
   "source": [
    "class cal():\n",
    "    def __init__(self,no):\n",
    "        self.number=no\n",
    "    def table(self,no):\n",
    "        for n "
   ]
  },
  {
   "cell_type": "code",
   "execution_count": 12,
   "id": "91c098b6",
   "metadata": {},
   "outputs": [
    {
     "name": "stdout",
     "output_type": "stream",
     "text": [
      "enter any number\n",
      "7\n",
      "your number is  7\n",
      "7\n",
      "14\n",
      "21\n",
      "28\n",
      "35\n",
      "42\n",
      "49\n",
      "56\n",
      "63\n",
      "70\n",
      "odd\n"
     ]
    }
   ],
   "source": [
    "class mathmethods():\n",
    "    def __init__(self):\n",
    "        print(\"enter any number\")\n",
    "        self.n=int(input())\n",
    "        print(\"your number is \",self.n)\n",
    "\n",
    "    def table(self):\n",
    "        for x in range(1,11):\n",
    "            print(x*self.n)\n",
    "    def nature(self):\n",
    "        if self.n%2==0:\n",
    "            print(\"even\")\n",
    "        else:\n",
    "            print(\"odd\")\n",
    "ab=mathmethods()\n",
    "ab.table()\n",
    "ab.nature()"
   ]
  },
  {
   "cell_type": "markdown",
   "id": "9d44bec7",
   "metadata": {},
   "source": []
  },
  {
   "cell_type": "code",
   "execution_count": 9,
   "id": "0b282544",
   "metadata": {},
   "outputs": [
    {
     "name": "stdout",
     "output_type": "stream",
     "text": [
      "table 6\n",
      "table 12\n",
      "table 18\n",
      "table 24\n",
      "table 30\n",
      "table 36\n",
      "table 42\n",
      "table 48\n",
      "table 54\n",
      "table 60\n"
     ]
    }
   ],
   "source": [
    "ab.table()"
   ]
  },
  {
   "cell_type": "code",
   "execution_count": 2,
   "id": "d995f8a1",
   "metadata": {},
   "outputs": [
    {
     "ename": "AttributeError",
     "evalue": "'FaceDetector' object has no attribute 'findFaceMesh'",
     "output_type": "error",
     "traceback": [
      "\u001b[1;31m---------------------------------------------------------------------------\u001b[0m",
      "\u001b[1;31mAttributeError\u001b[0m                            Traceback (most recent call last)",
      "Cell \u001b[1;32mIn[2], line 14\u001b[0m\n\u001b[0;32m     12\u001b[0m success, img \u001b[38;5;241m=\u001b[39m cap\u001b[38;5;241m.\u001b[39mread()\n\u001b[0;32m     13\u001b[0m det\u001b[38;5;241m.\u001b[39mfindHands(img)\n\u001b[1;32m---> 14\u001b[0m \u001b[43mfac\u001b[49m\u001b[38;5;241;43m.\u001b[39;49m\u001b[43mfindFaceMesh\u001b[49m(img)\n\u001b[0;32m     15\u001b[0m pos\u001b[38;5;241m.\u001b[39mfindPose(img)\n\u001b[0;32m     17\u001b[0m cv2\u001b[38;5;241m.\u001b[39mimshow(\u001b[38;5;124m\"\u001b[39m\u001b[38;5;124mResult\u001b[39m\u001b[38;5;124m\"\u001b[39m,img)\n",
      "\u001b[1;31mAttributeError\u001b[0m: 'FaceDetector' object has no attribute 'findFaceMesh'"
     ]
    }
   ],
   "source": [
    "import cv2\n",
    "\n",
    "from cvzone.HandTrackingModule import HandDetector\n",
    "from cvzone.FaceDetectionModule import FaceDetector\n",
    "from cvzone.PoseModule import PoseDetector\n",
    "det=HandDetector()\n",
    "fac=FaceDetector()\n",
    "pos=PoseDetector()\n",
    "\n",
    "cap = cv2.VideoCapture(0)\n",
    "while True:\n",
    "    success, img = cap.read()\n",
    "    det.findHands(img)\n",
    "    fac.findFaceMesh(img)\n",
    "    pos.findPose(img)\n",
    "\n",
    "    cv2.imshow(\"Result\",img)\n",
    "    if cv2.waitKey(1) & 0xFF == ord('q'):\n",
    "        break\n",
    "\n",
    "cap.release()\n",
    "cv2.destroyAllWindows()"
   ]
  },
  {
   "cell_type": "code",
   "execution_count": 6,
   "id": "56f7272d",
   "metadata": {},
   "outputs": [
    {
     "data": {
      "text/plain": [
       "-1"
      ]
     },
     "execution_count": 6,
     "metadata": {},
     "output_type": "execute_result"
    }
   ],
   "source": [
    "import cv2\n",
    "img=cv2.imread(\"output.jpg\")\n",
    "cv2.imshow(\"areeba\",img)\n",
    "cv2.waitKey(5000)"
   ]
  },
  {
   "cell_type": "code",
   "execution_count": null,
   "id": "41a28be7",
   "metadata": {},
   "outputs": [],
   "source": [
    "from cvzone.PoseModule import PoseDetector\n",
    "import cv2\n",
    "\n",
    "cap = cv2.VideoCapture(0)\n",
    "detector = PoseDetector()\n",
    "while True:\n",
    "    success, img = cap.read()\n",
    "    img = detector.findPose(img)\n",
    "    lmList, bboxInfo = detector.findPosition(img, bboxWithHands=False)\n",
    "    if bboxInfo:\n",
    "        center = bboxInfo[\"center\"]\n",
    "        cv2.circle(img, center, 5, (255, 0, 255), cv2.FILLED)\n",
    "\n",
    "    cv2.imshow(\"Image\", img)\n",
    "    cv2.waitKey(1)"
   ]
  },
  {
   "cell_type": "code",
   "execution_count": null,
   "id": "92614c52",
   "metadata": {},
   "outputs": [],
   "source": [
    "x=[1,2,3,4,5,6,7,8,9,10]\n",
    "y=[10,20,30,40,50,60,70,80,90,100]\n",
    "m=0\n",
    "def model(imp):\n",
    "    z=m*imp +b\n",
    "    print(z)\n",
    "    return z\n",
    "for i,imp in enumerate(x):\n",
    "    z=model(imp)\n",
    "    if z<y[1]\n",
    "        m=m+1\n",
    "    else z>y[1]\n",
    "        m=m-1\n",
    "        \n",
    "model(10)"
   ]
  },
  {
   "cell_type": "code",
   "execution_count": null,
   "id": "5cc09a06",
   "metadata": {},
   "outputs": [],
   "source": []
  }
 ],
 "metadata": {
  "kernelspec": {
   "display_name": "Python 3 (ipykernel)",
   "language": "python",
   "name": "python3"
  },
  "language_info": {
   "codemirror_mode": {
    "name": "ipython",
    "version": 3
   },
   "file_extension": ".py",
   "mimetype": "text/x-python",
   "name": "python",
   "nbconvert_exporter": "python",
   "pygments_lexer": "ipython3",
   "version": "3.11.4"
  }
 },
 "nbformat": 4,
 "nbformat_minor": 5
}
