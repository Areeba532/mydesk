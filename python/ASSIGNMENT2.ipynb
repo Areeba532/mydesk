{
 "cells": [
  {
   "cell_type": "code",
   "execution_count": null,
   "id": "d55f3641",
   "metadata": {},
   "outputs": [],
   "source": []
  },
  {
   "cell_type": "markdown",
   "id": "aa7f0960",
   "metadata": {},
   "source": []
  },
  {
   "cell_type": "code",
   "execution_count": 7,
   "id": "6d044077",
   "metadata": {},
   "outputs": [
    {
     "name": "stdout",
     "output_type": "stream",
     "text": [
      "Enter number of elements : 6\n",
      "2\n",
      "5\n",
      "9\n",
      "8\n",
      "4\n",
      "2\n",
      "[2, 8, 4, 2]\n"
     ]
    }
   ],
   "source": [
    "lst = []\n",
    "n = int(input(\"Enter number of elements : \"))\n",
    "for i in range(0, n):\n",
    "    ele = int(input())\n",
    "    if ele%2==0:\n",
    "        lst.append(ele) \n",
    " \n",
    "print(lst)"
   ]
  },
  {
   "cell_type": "code",
   "execution_count": 2,
   "id": "a3d699d9",
   "metadata": {},
   "outputs": [
    {
     "name": "stdout",
     "output_type": "stream",
     "text": [
      "{'W': 1, 'c': 13, 'e': 22, 'a': 17, 'i': 12, 't': 24}\n"
     ]
    }
   ],
   "source": [
    "string=\"Write a program that counts the occurrences of each character in a given string and stores the results in a dictionary. The keys of the dictionary should be the characters, and the values should be the counts. Print the dictionary as the output.\"\n",
    "dict={\"W\":string.count('W'),\"c\":string.count('c'),\"e\":string.count('e'),\"a\":string.count('a'),\"i\":string.count('i'),\"t\":string.count('t')}\n",
    "print(dict)"
   ]
  },
  {
   "cell_type": "code",
   "execution_count": 3,
   "id": "18a52fa7",
   "metadata": {},
   "outputs": [
    {
     "name": "stdout",
     "output_type": "stream",
     "text": [
      "[1, 2, 3, 4, 5, 6, 7, 8]\n"
     ]
    }
   ],
   "source": [
    "list2=[1,2,3,4,5,6,7,3,6,8]\n",
    "set2=set(list2)\n",
    "list3=list(set2)\n",
    "print(list3)"
   ]
  },
  {
   "cell_type": "code",
   "execution_count": 15,
   "id": "038a695f",
   "metadata": {},
   "outputs": [
    {
     "name": "stdout",
     "output_type": "stream",
     "text": [
      "Enter number of elements : 3\n",
      "areeba\n",
      "fatima\n",
      "olly\n",
      "your list:  ['areeba', 'fatima', 'olly']\n",
      "the words start with vowel:  ['areeba', 'olly']\n",
      "no of words start with vowel:  2\n"
     ]
    }
   ],
   "source": [
    "words = [] \n",
    "n = int(input(\"Enter number of elements : \"))\n",
    "for i in range(0, n):\n",
    "    ele = input()\n",
    "    words.append(ele) \n",
    "print(\"your list: \", words)\n",
    "\n",
    "vowel=[]\n",
    "ls=[\"a\",\"e\",\"i\",\"o\",\"u\"]\n",
    "for word in words:\n",
    "    if word[0] in ls:\n",
    "        vowel.append(word)\n",
    "    \n",
    "print(\"the words start with vowel: \",vowel)\n",
    "print(\"no of words start with vowel: \",len(vowel))\n"
   ]
  },
  {
   "cell_type": "code",
   "execution_count": null,
   "id": "2251e99f",
   "metadata": {},
   "outputs": [],
   "source": []
  },
  {
   "cell_type": "code",
   "execution_count": 1,
   "id": "6bc9d5c3",
   "metadata": {},
   "outputs": [
    {
     "name": "stdout",
     "output_type": "stream",
     "text": [
      "5\n",
      "factorial of 5 is  120\n"
     ]
    }
   ],
   "source": [
    "import math\n",
    "n=int(input())\n",
    "print(f\"factorial of {n} is \",math.factorial(n))"
   ]
  },
  {
   "cell_type": "code",
   "execution_count": null,
   "id": "efedb4ea",
   "metadata": {},
   "outputs": [],
   "source": []
  }
 ],
 "metadata": {
  "kernelspec": {
   "display_name": "Python 3 (ipykernel)",
   "language": "python",
   "name": "python3"
  },
  "language_info": {
   "codemirror_mode": {
    "name": "ipython",
    "version": 3
   },
   "file_extension": ".py",
   "mimetype": "text/x-python",
   "name": "python",
   "nbconvert_exporter": "python",
   "pygments_lexer": "ipython3",
   "version": "3.11.4"
  }
 },
 "nbformat": 4,
 "nbformat_minor": 5
}
