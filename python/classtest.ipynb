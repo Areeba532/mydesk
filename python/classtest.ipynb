{
 "cells": [
  {
   "cell_type": "code",
   "execution_count": 15,
   "id": "3292afb8",
   "metadata": {},
   "outputs": [
    {
     "name": "stdout",
     "output_type": "stream",
     "text": [
      "0\n",
      "number :  0\n",
      "Factorial :  1\n"
     ]
    }
   ],
   "source": [
    "def factorial(n):\n",
    "     \n",
    "    if (n==1 or n==0):\n",
    "         \n",
    "        return 1\n",
    "     \n",
    "    else:\n",
    "         \n",
    "        return (n * factorial(n - 1))\n",
    "num = int(input());\n",
    "print(\"number : \",num)\n",
    "print(\"Factorial : \",factorial(num))"
   ]
  },
  {
   "cell_type": "code",
   "execution_count": 4,
   "id": "b46d0d52",
   "metadata": {},
   "outputs": [],
   "source": [
    "class Clock:   \n",
    "    def __init__(self):\n",
    "        self._hours = 12\n",
    "        self._minutes = 0\n",
    "        self._seconds = 0\n",
    "\n",
    "    def getHours(self):\n",
    "        return self._hours\n",
    "\n",
    "    def getMinutes(self):\n",
    "        return self._minutes\n",
    "\n",
    "    def getSeconds(self):\n",
    "        return self._seconds\n",
    "\n",
    "    def show(self):\n",
    "        print( \"%d:%02d:%02d\", (self._hours, self._minutes, self._seconds))\n",
    "    "
   ]
  },
  {
   "cell_type": "code",
   "execution_count": 6,
   "id": "c5e74e97",
   "metadata": {},
   "outputs": [
    {
     "ename": "SyntaxError",
     "evalue": "Missing parentheses in call to 'print'. Did you mean print(...)? (13473557.py, line 3)",
     "output_type": "error",
     "traceback": [
      "\u001b[1;36m  Cell \u001b[1;32mIn[6], line 3\u001b[1;36m\u001b[0m\n\u001b[1;33m    print clk.getHours()\u001b[0m\n\u001b[1;37m    ^\u001b[0m\n\u001b[1;31mSyntaxError\u001b[0m\u001b[1;31m:\u001b[0m Missing parentheses in call to 'print'. Did you mean print(...)?\n"
     ]
    }
   ],
   "source": [
    "clk = Clock()\n",
    "clk.setTime(12, 34, 2)\n",
    "print clk.getHours()\n",
    "clk.show()\n",
    "\n",
    "    def setTime(self, hours = 12, minutes = 34, seconds = 2):\n",
    "        self._hours = hours\n",
    "        self._minutes = minutes\n",
    "        self._seconds = seconds"
   ]
  },
  {
   "cell_type": "code",
   "execution_count": null,
   "id": "f09f58af",
   "metadata": {},
   "outputs": [],
   "source": []
  }
 ],
 "metadata": {
  "kernelspec": {
   "display_name": "Python 3 (ipykernel)",
   "language": "python",
   "name": "python3"
  },
  "language_info": {
   "codemirror_mode": {
    "name": "ipython",
    "version": 3
   },
   "file_extension": ".py",
   "mimetype": "text/x-python",
   "name": "python",
   "nbconvert_exporter": "python",
   "pygments_lexer": "ipython3",
   "version": "3.11.4"
  }
 },
 "nbformat": 4,
 "nbformat_minor": 5
}
