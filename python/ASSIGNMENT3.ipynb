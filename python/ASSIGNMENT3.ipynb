{
 "cells": [
  {
   "cell_type": "code",
   "execution_count": 18,
   "id": "89c3f7fe",
   "metadata": {},
   "outputs": [
    {
     "name": "stdout",
     "output_type": "stream",
     "text": [
      "enter any number\n",
      "4\n",
      "your number is  4\n",
      "table of 4\n",
      "4 x 1 =  4\n",
      "4 x 2 =  8\n",
      "4 x 3 =  12\n",
      "4 x 4 =  16\n",
      "4 x 5 =  20\n",
      "4 x 6 =  24\n",
      "4 x 7 =  28\n",
      "4 x 8 =  32\n",
      "4 x 9 =  36\n",
      "4 x 10 =  40\n",
      "4 is even number\n"
     ]
    }
   ],
   "source": [
    "class mathmethods():\n",
    "    def __init__(self):\n",
    "        print(\"enter any number\")\n",
    "        self.n=int(input())\n",
    "        print(\"your number is \",self.n)\n",
    "        print(f\"table of {self.n}\")\n",
    "\n",
    "    def table(self):\n",
    "        for x in range(1,11):\n",
    "            print(f\"{self.n} x {x} = \", x*self.n)\n",
    "    def nature(self):\n",
    "        if self.n%2==0:\n",
    "            print(f\"{self.n} is even number\")\n",
    "        else:\n",
    "            print(f\"{self.n} is odd number\")\n",
    "ab=mathmethods()\n",
    "ab.table()\n",
    "ab.nature()"
   ]
  },
  {
   "cell_type": "code",
   "execution_count": null,
   "id": "84ee6d92",
   "metadata": {},
   "outputs": [],
   "source": []
  }
 ],
 "metadata": {
  "kernelspec": {
   "display_name": "Python 3 (ipykernel)",
   "language": "python",
   "name": "python3"
  },
  "language_info": {
   "codemirror_mode": {
    "name": "ipython",
    "version": 3
   },
   "file_extension": ".py",
   "mimetype": "text/x-python",
   "name": "python",
   "nbconvert_exporter": "python",
   "pygments_lexer": "ipython3",
   "version": "3.11.4"
  }
 },
 "nbformat": 4,
 "nbformat_minor": 5
}
