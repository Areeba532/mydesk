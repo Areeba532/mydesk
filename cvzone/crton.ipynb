{
 "cells": [
  {
   "cell_type": "code",
   "execution_count": 3,
   "metadata": {},
   "outputs": [],
   "source": [
    "import cv2\n",
    "\n",
    "cap=cv2.imread(\"output.jpg\")\n",
    "cv2.imshow(\"img\",cap)\n",
    "gray=cv2.cvtColor(cap,cv2.COLOR_BGR2GRAY)\n",
    "blur=cv2.medianBlur(gray,5)\n",
    "edges=cv2.adaptiveThreshold(blur,150,cv2.ADAPTIVE_THRESH_MEAN_C,cv2.THRESH_BINARY,5,5)\n",
    "color=cv2.bilateralFilter(cap,5,300,300)\n",
    "\n",
    "cartoon=cv2.bitwise_and(color,color,mask=edges)\n",
    "\n",
    "cv2.imshow(\"img5\",cartoon)\n",
    "\n",
    "cv2.waitKey(110000)\n",
    "cv2.destroyAllWindows()\n"
   ]
  },
  {
   "cell_type": "code",
   "execution_count": null,
   "metadata": {},
   "outputs": [],
   "source": []
  },
  {
   "attachments": {},
   "cell_type": "markdown",
   "metadata": {},
   "source": []
  },
  {
   "attachments": {},
   "cell_type": "markdown",
   "metadata": {},
   "source": []
  }
 ],
 "metadata": {
  "kernelspec": {
   "display_name": "Python 3",
   "language": "python",
   "name": "python3"
  },
  "language_info": {
   "codemirror_mode": {
    "name": "ipython",
    "version": 3
   },
   "file_extension": ".py",
   "mimetype": "text/x-python",
   "name": "python",
   "nbconvert_exporter": "python",
   "pygments_lexer": "ipython3",
   "version": "3.11.4"
  },
  "orig_nbformat": 4
 },
 "nbformat": 4,
 "nbformat_minor": 2
}
