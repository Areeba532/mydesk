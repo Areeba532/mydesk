{
 "cells": [
  {
   "attachments": {},
   "cell_type": "markdown",
   "metadata": {},
   "source": [
    "# Image recognition"
   ]
  },
  {
   "cell_type": "code",
   "execution_count": 2,
   "metadata": {},
   "outputs": [],
   "source": [
    "import cv2\n",
    "\n",
    "img=cv2.imread(\"output.jpg\")\n",
    "cv2.imshow(\"img\",img)\n",
    "k=cv2.waitKey(5000)\n",
    "if k==27:\n",
    "    cv2.destroyAllWindows()"
   ]
  },
  {
   "attachments": {},
   "cell_type": "markdown",
   "metadata": {},
   "source": [
    "## Face Detector using cvzone's Facemesh module"
   ]
  },
  {
   "cell_type": "code",
   "execution_count": 3,
   "metadata": {},
   "outputs": [],
   "source": [
    "import cv2 # image ko read krega\n",
    "from cvzone.FaceMeshModule import FaceMeshDetector # face read kregaa picture me se jo picture cv2 read krega wo isko dengy smjhi! face meash?\n",
    "\n",
    "# make a obj of facemeshdetector\n",
    "face = FaceMeshDetector()"
   ]
  },
  {
   "cell_type": "code",
   "execution_count": null,
   "metadata": {},
   "outputs": [],
   "source": [
    "img = cv2.imread(\"output.jpg\")\n",
    "cv2.imshow(\"title here\", img)\n",
    "img = face.findFaceMesh(img)\n",
    "cv2.waitKey(10 * 1000) # image show hogi 10 sec liye\n",
    "cv2.destroyAllWindows() # yar ye function kaam ka wow. haan\n",
    "\n",
    "\n",
    "#  detecting face ! \n"
   ]
  },
  {
   "cell_type": "code",
   "execution_count": null,
   "metadata": {},
   "outputs": [],
   "source": [
    "import cv2\n",
    "\n",
    "image = cv2.imread(\"output.jpg\")\n",
    "gray=cv2.cvtColor(image,cv2.COLOR_BGR2GRAY)\n",
    "face=cv2.CascadeClassifier()"
   ]
  },
  {
   "cell_type": "code",
   "execution_count": 5,
   "metadata": {},
   "outputs": [
    {
     "ename": "ImportError",
     "evalue": "cannot import name 'FaceMeshDetector' from 'cvzone' (C:\\Users\\TTC\\AppData\\Roaming\\Python\\Python311\\site-packages\\cvzone\\__init__.py)",
     "output_type": "error",
     "traceback": [
      "\u001b[1;31m---------------------------------------------------------------------------\u001b[0m",
      "\u001b[1;31mImportError\u001b[0m                               Traceback (most recent call last)",
      "Cell \u001b[1;32mIn[5], line 2\u001b[0m\n\u001b[0;32m      1\u001b[0m \u001b[39mimport\u001b[39;00m \u001b[39mcv2\u001b[39;00m\n\u001b[1;32m----> 2\u001b[0m \u001b[39mfrom\u001b[39;00m \u001b[39mcvzone\u001b[39;00m \u001b[39mimport\u001b[39;00m FaceMeshDetector\n\u001b[0;32m      4\u001b[0m image_path \u001b[39m=\u001b[39m \u001b[39m\"\u001b[39m\u001b[39moutput.jpg\u001b[39m\u001b[39m\"\u001b[39m  \u001b[39m# Replace with the path to your image\u001b[39;00m\n\u001b[0;32m      5\u001b[0m face \u001b[39m=\u001b[39m FaceMeshDetector()\n",
      "\u001b[1;31mImportError\u001b[0m: cannot import name 'FaceMeshDetector' from 'cvzone' (C:\\Users\\TTC\\AppData\\Roaming\\Python\\Python311\\site-packages\\cvzone\\__init__.py)"
     ]
    }
   ],
   "source": [
    "import cv2\n",
    "from cvzone import FaceMeshDetector\n",
    "\n",
    "image_path = \"output.jpg\"  # Replace with the path to your image\n",
    "face = FaceMeshDetector()\n",
    "\n",
    "img = cv2.imread(image_path)\n",
    "img, _ = face.findFaceMesh(img)\n",
    "\n",
    "cv2.imshow(\"raheem\", img)\n",
    "cv2.waitKey(0)\n",
    "cv2.destroyAllWindows()\n"
   ]
  },
  {
   "cell_type": "code",
   "execution_count": 1,
   "metadata": {},
   "outputs": [
    {
     "ename": "ModuleNotFoundError",
     "evalue": "No module named 'dlib'",
     "output_type": "error",
     "traceback": [
      "\u001b[1;31m---------------------------------------------------------------------------\u001b[0m",
      "\u001b[1;31mModuleNotFoundError\u001b[0m                       Traceback (most recent call last)",
      "Cell \u001b[1;32mIn[1], line 2\u001b[0m\n\u001b[0;32m      1\u001b[0m \u001b[39mimport\u001b[39;00m \u001b[39mcv2\u001b[39;00m\n\u001b[1;32m----> 2\u001b[0m \u001b[39mimport\u001b[39;00m \u001b[39mdlib\u001b[39;00m\n\u001b[0;32m      4\u001b[0m \u001b[39m# Load the pre-trained face detection model\u001b[39;00m\n\u001b[0;32m      5\u001b[0m detector \u001b[39m=\u001b[39m dlib\u001b[39m.\u001b[39mget_frontal_face_detector()\n",
      "\u001b[1;31mModuleNotFoundError\u001b[0m: No module named 'dlib'"
     ]
    }
   ],
   "source": [
    "\n",
    "import cv2\n",
    "import dlib\n",
    "\n",
    "# Load the pre-trained face detection model\n",
    "detector = dlib.get_frontal_face_detector()\n",
    "\n",
    "# Load the image\n",
    "image = cv2.imread('output.jpg')\n",
    "\n",
    "# Convert the image to grayscale\n",
    "gray = cv2.cvtColor(image, cv2.COLOR_BGR2GRAY)\n",
    "\n",
    "# Perform face detection\n",
    "faces = detector(gray)\n",
    "\n",
    "# Draw rectangles around the detected faces\n",
    "for face in faces:\n",
    "    x, y, w, h = face.left(), face.top(), face.width(), face.height()\n",
    "    cv2.rectangle(image, (x, y), (x+w, y+h), (0, 255, 0), 2)\n",
    "\n",
    "# Display the result\n",
    "cv2.imshow('Face Detection', image)\n",
    "cv2.waitKey(0)\n",
    "cv2.destroyAllWindows()\n",
    "\n",
    "\n",
    "\n",
    "\n",
    "\n",
    "\n"
   ]
  },
  {
   "cell_type": "code",
   "execution_count": 8,
   "metadata": {},
   "outputs": [
    {
     "name": "stdout",
     "output_type": "stream",
     "text": [
      "Defaulting to user installation because normal site-packages is not writeable\n",
      "Collecting dlib\n",
      "  Using cached dlib-19.24.2.tar.gz (11.8 MB)\n",
      "  Installing build dependencies: started\n",
      "  Installing build dependencies: finished with status 'done'\n",
      "  Getting requirements to build wheel: started\n",
      "  Getting requirements to build wheel: finished with status 'done'\n",
      "  Preparing metadata (pyproject.toml): started\n",
      "  Preparing metadata (pyproject.toml): finished with status 'done'\n",
      "Building wheels for collected packages: dlib\n",
      "  Building wheel for dlib (pyproject.toml): started\n",
      "  Building wheel for dlib (pyproject.toml): finished with status 'error'\n",
      "Failed to build dlib\n",
      "Note: you may need to restart the kernel to use updated packages.\n"
     ]
    },
    {
     "name": "stderr",
     "output_type": "stream",
     "text": [
      "  error: subprocess-exited-with-error\n",
      "  \n",
      "  × Building wheel for dlib (pyproject.toml) did not run successfully.\n",
      "  │ exit code: 1\n",
      "  ╰─> [78 lines of output]\n",
      "      running bdist_wheel\n",
      "      running build\n",
      "      running build_ext\n",
      "      <string>:125: DeprecationWarning: distutils Version classes are deprecated. Use packaging.version instead.\n",
      "      Building extension for Python 3.11.4 (tags/v3.11.4:d2340ef, Jun  7 2023, 05:45:37) [MSC v.1934 64 bit (AMD64)]\n",
      "      Invoking CMake setup: 'cmake C:\\Users\\TTC\\AppData\\Local\\Temp\\pip-install-ob1kb8c1\\dlib_f5d81b12da94470bb2f23d7b3b9ce50c\\tools\\python -DCMAKE_LIBRARY_OUTPUT_DIRECTORY=C:\\Users\\TTC\\AppData\\Local\\Temp\\pip-install-ob1kb8c1\\dlib_f5d81b12da94470bb2f23d7b3b9ce50c\\build\\lib.win-amd64-cpython-311 -DPYTHON_EXECUTABLE=c:\\Program Files\\Python311\\python.exe -DCMAKE_LIBRARY_OUTPUT_DIRECTORY_RELEASE=C:\\Users\\TTC\\AppData\\Local\\Temp\\pip-install-ob1kb8c1\\dlib_f5d81b12da94470bb2f23d7b3b9ce50c\\build\\lib.win-amd64-cpython-311 -A x64'\n",
      "      -- Building for: NMake Makefiles\n",
      "      CMake Error at CMakeLists.txt:5 (message):\n",
      "      \n",
      "      \n",
      "      \n",
      "        !!!!!!!!!!!!!!!!!!!!!!!!!!!!!!!!!!!!!!!!!!!!!!!!!!!!!!!!!!!!!!!!!!!!!!!!!!!!!!!\n",
      "      \n",
      "      \n",
      "        You must use Visual Studio to build a python extension on windows.  If you\n",
      "        are getting this error it means you have not installed Visual C++.  Note\n",
      "        that there are many flavors of Visual Studio, like Visual Studio for C#\n",
      "        development.  You need to install Visual Studio for C++.\n",
      "      \n",
      "      \n",
      "        !!!!!!!!!!!!!!!!!!!!!!!!!!!!!!!!!!!!!!!!!!!!!!!!!!!!!!!!!!!!!!!!!!!!!!!!!!!!!!!\n",
      "      \n",
      "      \n",
      "      \n",
      "      \n",
      "      -- Configuring incomplete, errors occurred!\n",
      "      Traceback (most recent call last):\n",
      "        File \"c:\\Program Files\\Python311\\Lib\\site-packages\\pip\\_vendor\\pyproject_hooks\\_in_process\\_in_process.py\", line 353, in <module>\n",
      "          main()\n",
      "        File \"c:\\Program Files\\Python311\\Lib\\site-packages\\pip\\_vendor\\pyproject_hooks\\_in_process\\_in_process.py\", line 335, in main\n",
      "          json_out['return_val'] = hook(**hook_input['kwargs'])\n",
      "                                   ^^^^^^^^^^^^^^^^^^^^^^^^^^^^\n",
      "        File \"c:\\Program Files\\Python311\\Lib\\site-packages\\pip\\_vendor\\pyproject_hooks\\_in_process\\_in_process.py\", line 251, in build_wheel\n",
      "          return _build_backend().build_wheel(wheel_directory, config_settings,\n",
      "                 ^^^^^^^^^^^^^^^^^^^^^^^^^^^^^^^^^^^^^^^^^^^^^^^^^^^^^^^^^^^^^^\n",
      "        File \"C:\\Users\\TTC\\AppData\\Local\\Temp\\pip-build-env-4zjld6ui\\overlay\\Lib\\site-packages\\setuptools\\build_meta.py\", line 416, in build_wheel\n",
      "          return self._build_with_temp_dir(['bdist_wheel'], '.whl',\n",
      "                 ^^^^^^^^^^^^^^^^^^^^^^^^^^^^^^^^^^^^^^^^^^^^^^^^^^\n",
      "        File \"C:\\Users\\TTC\\AppData\\Local\\Temp\\pip-build-env-4zjld6ui\\overlay\\Lib\\site-packages\\setuptools\\build_meta.py\", line 401, in _build_with_temp_dir\n",
      "          self.run_setup()\n",
      "        File \"C:\\Users\\TTC\\AppData\\Local\\Temp\\pip-build-env-4zjld6ui\\overlay\\Lib\\site-packages\\setuptools\\build_meta.py\", line 338, in run_setup\n",
      "          exec(code, locals())\n",
      "        File \"<string>\", line 218, in <module>\n",
      "        File \"C:\\Users\\TTC\\AppData\\Local\\Temp\\pip-build-env-4zjld6ui\\overlay\\Lib\\site-packages\\setuptools\\__init__.py\", line 107, in setup\n",
      "          return distutils.core.setup(**attrs)\n",
      "                 ^^^^^^^^^^^^^^^^^^^^^^^^^^^^^\n",
      "        File \"C:\\Users\\TTC\\AppData\\Local\\Temp\\pip-build-env-4zjld6ui\\overlay\\Lib\\site-packages\\setuptools\\_distutils\\core.py\", line 185, in setup\n",
      "          return run_commands(dist)\n",
      "                 ^^^^^^^^^^^^^^^^^^\n",
      "        File \"C:\\Users\\TTC\\AppData\\Local\\Temp\\pip-build-env-4zjld6ui\\overlay\\Lib\\site-packages\\setuptools\\_distutils\\core.py\", line 201, in run_commands\n",
      "          dist.run_commands()\n",
      "        File \"C:\\Users\\TTC\\AppData\\Local\\Temp\\pip-build-env-4zjld6ui\\overlay\\Lib\\site-packages\\setuptools\\_distutils\\dist.py\", line 969, in run_commands\n",
      "          self.run_command(cmd)\n",
      "        File \"C:\\Users\\TTC\\AppData\\Local\\Temp\\pip-build-env-4zjld6ui\\overlay\\Lib\\site-packages\\setuptools\\dist.py\", line 1234, in run_command\n",
      "          super().run_command(command)\n",
      "        File \"C:\\Users\\TTC\\AppData\\Local\\Temp\\pip-build-env-4zjld6ui\\overlay\\Lib\\site-packages\\setuptools\\_distutils\\dist.py\", line 988, in run_command\n",
      "          cmd_obj.run()\n",
      "        File \"C:\\Users\\TTC\\AppData\\Local\\Temp\\pip-build-env-4zjld6ui\\overlay\\Lib\\site-packages\\wheel\\bdist_wheel.py\", line 343, in run\n",
      "          self.run_command(\"build\")\n",
      "        File \"C:\\Users\\TTC\\AppData\\Local\\Temp\\pip-build-env-4zjld6ui\\overlay\\Lib\\site-packages\\setuptools\\_distutils\\cmd.py\", line 318, in run_command\n",
      "          self.distribution.run_command(command)\n",
      "        File \"C:\\Users\\TTC\\AppData\\Local\\Temp\\pip-build-env-4zjld6ui\\overlay\\Lib\\site-packages\\setuptools\\dist.py\", line 1234, in run_command\n",
      "          super().run_command(command)\n",
      "        File \"C:\\Users\\TTC\\AppData\\Local\\Temp\\pip-build-env-4zjld6ui\\overlay\\Lib\\site-packages\\setuptools\\_distutils\\dist.py\", line 988, in run_command\n",
      "          cmd_obj.run()\n",
      "        File \"C:\\Users\\TTC\\AppData\\Local\\Temp\\pip-build-env-4zjld6ui\\overlay\\Lib\\site-packages\\setuptools\\_distutils\\command\\build.py\", line 131, in run\n",
      "          self.run_command(cmd_name)\n",
      "        File \"C:\\Users\\TTC\\AppData\\Local\\Temp\\pip-build-env-4zjld6ui\\overlay\\Lib\\site-packages\\setuptools\\_distutils\\cmd.py\", line 318, in run_command\n",
      "          self.distribution.run_command(command)\n",
      "        File \"C:\\Users\\TTC\\AppData\\Local\\Temp\\pip-build-env-4zjld6ui\\overlay\\Lib\\site-packages\\setuptools\\dist.py\", line 1234, in run_command\n",
      "          super().run_command(command)\n",
      "        File \"C:\\Users\\TTC\\AppData\\Local\\Temp\\pip-build-env-4zjld6ui\\overlay\\Lib\\site-packages\\setuptools\\_distutils\\dist.py\", line 988, in run_command\n",
      "          cmd_obj.run()\n",
      "        File \"<string>\", line 130, in run\n",
      "        File \"<string>\", line 167, in build_extension\n",
      "        File \"c:\\Program Files\\Python311\\Lib\\subprocess.py\", line 413, in check_call\n",
      "          raise CalledProcessError(retcode, cmd)\n",
      "      subprocess.CalledProcessError: Command '['cmake', 'C:\\\\Users\\\\TTC\\\\AppData\\\\Local\\\\Temp\\\\pip-install-ob1kb8c1\\\\dlib_f5d81b12da94470bb2f23d7b3b9ce50c\\\\tools\\\\python', '-DCMAKE_LIBRARY_OUTPUT_DIRECTORY=C:\\\\Users\\\\TTC\\\\AppData\\\\Local\\\\Temp\\\\pip-install-ob1kb8c1\\\\dlib_f5d81b12da94470bb2f23d7b3b9ce50c\\\\build\\\\lib.win-amd64-cpython-311', '-DPYTHON_EXECUTABLE=c:\\\\Program Files\\\\Python311\\\\python.exe', '-DCMAKE_LIBRARY_OUTPUT_DIRECTORY_RELEASE=C:\\\\Users\\\\TTC\\\\AppData\\\\Local\\\\Temp\\\\pip-install-ob1kb8c1\\\\dlib_f5d81b12da94470bb2f23d7b3b9ce50c\\\\build\\\\lib.win-amd64-cpython-311', '-A', 'x64']' returned non-zero exit status 1.\n",
      "      [end of output]\n",
      "  \n",
      "  note: This error originates from a subprocess, and is likely not a problem with pip.\n",
      "  ERROR: Failed building wheel for dlib\n",
      "ERROR: Could not build wheels for dlib, which is required to install pyproject.toml-based projects\n"
     ]
    }
   ],
   "source": [
    "%pip install dlib\n"
   ]
  },
  {
   "cell_type": "code",
   "execution_count": 2,
   "metadata": {},
   "outputs": [],
   "source": [
    "import cv2\n",
    "\n",
    "# Load the pre-trained face detection cascade\n",
    "face_cascade = cv2.CascadeClassifier(cv2.data.haarcascades + 'haarcascade_frontalface_default.xml')\n",
    "\n",
    "# Load the image\n",
    "image = cv2.imread('output.jpg')\n",
    "\n",
    "# Convert the image to grayscale\n",
    "gray = cv2.cvtColor(image, cv2.COLOR_BGR2GRAY)\n",
    "\n",
    "# Perform histogram equalization on the grayscale image (optional)\n",
    "gray = cv2.equalizeHist(gray)\n",
    "\n",
    "# Detect faces in the image\n",
    "faces = face_cascade.detectMultiScale(gray, scaleFactor=1.3, minNeighbors=5, minSize=(30, 30))\n",
    "\n",
    "# Draw rectangles around the detected faces\n",
    "for (x, y, w, h) in faces:\n",
    "    cv2.rectangle(image, (x, y), (x+w, y+h), (0, 255, 0), 3)\n",
    "\n",
    "# Display the image with detected faces\n",
    "cv2.imshow('Faces Detected', image)\n",
    "cv2.waitKey(0)\n",
    "cv2.destroyAllWindows()\n",
    "\n",
    "\n"
   ]
  },
  {
   "cell_type": "code",
   "execution_count": 1,
   "metadata": {},
   "outputs": [],
   "source": [
    "import cv2\n",
    "\n",
    "cap=cv2.VideoCapture(\"myvdeo.mp4\")\n",
    "while(True):\n",
    "    vdeo, var=cap.read()\n",
    "\n",
    "    cv2.imshow('Face Detection', var)\n",
    "    k=cv2.waitKey(5000)\n",
    "    if k==27:\n",
    "        cv2.destroyAllWindows()\n",
    "        break"
   ]
  },
  {
   "cell_type": "code",
   "execution_count": null,
   "metadata": {},
   "outputs": [],
   "source": []
  }
 ],
 "metadata": {
  "kernelspec": {
   "display_name": "Python 3",
   "language": "python",
   "name": "python3"
  },
  "language_info": {
   "codemirror_mode": {
    "name": "ipython",
    "version": 3
   },
   "file_extension": ".py",
   "mimetype": "text/x-python",
   "name": "python",
   "nbconvert_exporter": "python",
   "pygments_lexer": "ipython3",
   "version": "3.11.4"
  },
  "orig_nbformat": 4
 },
 "nbformat": 4,
 "nbformat_minor": 2
}
